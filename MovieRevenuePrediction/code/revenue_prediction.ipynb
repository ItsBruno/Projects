{
 "cells": [
  {
   "cell_type": "code",
   "execution_count": 1,
   "metadata": {},
   "outputs": [],
   "source": [
    "import categorical_data_encoding as cden\n",
    "import pandas as pd\n",
    "import numpy as np\n",
    "import matplotlib.pyplot as plt\n",
    "from sklearn.impute import KNNImputer\n",
    "from sklearn.ensemble import GradientBoostingRegressor\n",
    "from sklearn.model_selection import RepeatedKFold\n",
    "from sklearn.model_selection import cross_val_score\n",
    "from sklearn.model_selection import train_test_split\n",
    "from sklearn.preprocessing import MinMaxScaler\n",
    "from sklearn.pipeline import Pipeline"
   ]
  },
  {
   "attachments": {},
   "cell_type": "markdown",
   "metadata": {},
   "source": [
    "Import the dataset"
   ]
  },
  {
   "cell_type": "code",
   "execution_count": 2,
   "metadata": {},
   "outputs": [],
   "source": [
    "data_set = pd.read_csv('C:\\Python\\Project\\Project\\data\\\\tmdb_5000_movies.csv', na_values=0)\n",
    "data_set.set_index('id', inplace=True)"
   ]
  },
  {
   "attachments": {},
   "cell_type": "markdown",
   "metadata": {},
   "source": [
    "Select only the wanted features from the dataset"
   ]
  },
  {
   "cell_type": "code",
   "execution_count": 3,
   "metadata": {},
   "outputs": [],
   "source": [
    "feature_names = ['budget', 'revenue', 'genres', 'popularity', \n",
    "                'production_companies', 'production_countries', 'release_date', 'runtime', \n",
    "                'spoken_languages', 'vote_average', 'vote_count']\n",
    "\n",
    "for column in data_set.columns:\n",
    "    if not feature_names.__contains__(column):\n",
    "        data_set.drop(column, axis=1, inplace=True)"
   ]
  },
  {
   "attachments": {},
   "cell_type": "markdown",
   "metadata": {},
   "source": [
    "Remove the samples which don't have a value for the dependent variable"
   ]
  },
  {
   "cell_type": "code",
   "execution_count": 4,
   "metadata": {},
   "outputs": [],
   "source": [
    "data_set.dropna(subset=['revenue'], how='any', inplace=True)"
   ]
  },
  {
   "attachments": {},
   "cell_type": "markdown",
   "metadata": {},
   "source": [
    "Encode the categorical fetures"
   ]
  },
  {
   "cell_type": "code",
   "execution_count": 5,
   "metadata": {},
   "outputs": [
    {
     "name": "stdout",
     "output_type": "stream",
     "text": [
      "<class 'pandas.core.series.Series'>\n",
      "<class 'pandas.core.series.Series'>\n",
      "Number of occurances of the value 1 in column other_companies: 2947\n",
      "Number of occurances of the value 0 in column other_companies: 429\n",
      "\n",
      "<class 'pandas.core.series.Series'>\n",
      "Number of occurances of the value 1 in column other_countries: 203\n",
      "Number of occurances of the value 0 in column other_countries: 3173\n",
      "\n",
      "<class 'pandas.core.series.Series'>\n",
      "Number of occurances of the value 1 in column other_languages: 201\n",
      "Number of occurances of the value 0 in column other_languages: 3175\n",
      "\n",
      "94\n",
      "Ratio of features to samples = 1 : 35.91489361702128\n"
     ]
    }
   ],
   "source": [
    "data_set = cden.encode_data(data_set)\n",
    "data_set.to_csv('C:\\Python\\Project\\Project\\data\\data_set_dropped_na_revenue.csv')"
   ]
  },
  {
   "cell_type": "code",
   "execution_count": 6,
   "metadata": {},
   "outputs": [
    {
     "data": {
      "text/plain": [
       "' for column in data_set.columns:\\n    n_missing = data_set[column].isna().sum()\\n    print(\"Missing values in \" + column + \": \" + str(n_missing)) '"
      ]
     },
     "execution_count": 6,
     "metadata": {},
     "output_type": "execute_result"
    }
   ],
   "source": [
    "\"\"\" for column in data_set.columns:\n",
    "    n_missing = data_set[column].isna().sum()\n",
    "    print(\"Missing values in \" + column + \": \" + str(n_missing)) \"\"\""
   ]
  },
  {
   "attachments": {},
   "cell_type": "markdown",
   "metadata": {},
   "source": [
    "Test, train split"
   ]
  },
  {
   "cell_type": "code",
   "execution_count": 7,
   "metadata": {},
   "outputs": [],
   "source": [
    "y = data_set['revenue']\n",
    "X = data_set[data_set.columns.drop('revenue')]\n",
    "\n",
    "X_train,  X_test, y_train, y_test = train_test_split(X, y, test_size=0.2, random_state = 85)\n"
   ]
  },
  {
   "attachments": {},
   "cell_type": "markdown",
   "metadata": {},
   "source": [
    "Data normalization <br />\n",
    "The normalization is done before KNN imputing since KNN works better with scaled values <br />\n",
    "the fit method is only applied to the train set in order to aviod data leakage"
   ]
  },
  {
   "cell_type": "code",
   "execution_count": 8,
   "metadata": {},
   "outputs": [],
   "source": [
    "scaler = MinMaxScaler()\n",
    "scaler.fit(X_train)\n",
    "X_train = pd.DataFrame(scaler.transform(X_train), columns=X_train.columns, index=X_train.index)\n",
    "X_test = pd.DataFrame(scaler.transform(X_test), columns=X_test.columns, index=X_test.index)\n",
    "\n",
    "#quick behavior check to make sure that MinMaxScaler didn't change the order of the samples\n",
    "same = True\n",
    "for index in X_train.index:\n",
    "    if(X_train.loc[index, 'Action'] != X_train.loc[index, 'Action']): same = False\n",
    "\n",
    "X_train.to_csv('C:\\Python\\Project\\Project\\data\\X_train_scaled.csv')"
   ]
  },
  {
   "attachments": {},
   "cell_type": "markdown",
   "metadata": {},
   "source": [
    "Evaluate the model using cross validation <br/>\n",
    "The model and the data set require much more tuning"
   ]
  },
  {
   "cell_type": "code",
   "execution_count": 9,
   "metadata": {},
   "outputs": [
    {
     "name": "stdout",
     "output_type": "stream",
     "text": [
      "MAE: -47706374.207 (3613775.188)\n"
     ]
    }
   ],
   "source": [
    "regressor = GradientBoostingRegressor(n_estimators=600, learning_rate=0.04)\n",
    "imputer = KNNImputer()\n",
    "pipeline = Pipeline(steps=[('i', imputer), ('r', regressor)])\n",
    "\n",
    "cv = RepeatedKFold(n_splits=10, n_repeats=3, random_state=1)\n",
    "scores = cross_val_score(pipeline, X_train, y_train, scoring='neg_mean_absolute_error', cv=cv, n_jobs=-1, error_score='raise')\n",
    "print('MAE: %.3f (%.3f)' % (np.mean(scores), np.std(scores)))"
   ]
  },
  {
   "attachments": {},
   "cell_type": "markdown",
   "metadata": {},
   "source": [
    "Fit the model to the train test"
   ]
  },
  {
   "cell_type": "code",
   "execution_count": 10,
   "metadata": {},
   "outputs": [],
   "source": [
    "regressor = GradientBoostingRegressor()\n",
    "X_train_imputed = imputer.fit_transform(X_train)\n",
    "regressor.fit(X_train_imputed, y_train)\n",
    "X_test_imputed = imputer.transform(X_test)\n",
    "predicted = regressor.predict(X_test_imputed)"
   ]
  },
  {
   "cell_type": "code",
   "execution_count": 11,
   "metadata": {},
   "outputs": [],
   "source": [
    "pd.DataFrame(X_train_imputed, columns=X_train.columns, index=X_train.index).to_csv('C:\\Python\\Project\\Project\\data\\X_train_imputed.csv')"
   ]
  },
  {
   "cell_type": "code",
   "execution_count": 12,
   "metadata": {},
   "outputs": [
    {
     "name": "stdout",
     "output_type": "stream",
     "text": [
      "Index(['revenue'], dtype='object')\n",
      "            revenue      id\n",
      "id                         \n",
      "13362      274661.0   13362\n",
      "133694    8138788.0  133694\n",
      "3877      2849142.0    3877\n",
      "88751   101702060.0   88751\n",
      "22      655011224.0      22\n"
     ]
    }
   ],
   "source": [
    "y_test_df = pd.DataFrame(y_test)\n",
    "print(y_test_df.columns)\n",
    "y_test_df['id'] = y_test_df.index\n",
    "print(y_test_df.head())"
   ]
  },
  {
   "cell_type": "code",
   "execution_count": 13,
   "metadata": {},
   "outputs": [
    {
     "name": "stdout",
     "output_type": "stream",
     "text": [
      "        revenue      id\n",
      "0  4.227071e+06   13362\n",
      "1  2.417360e+07  133694\n",
      "2  1.406350e+07    3877\n",
      "3  1.445675e+08   88751\n",
      "4  9.469531e+08      22\n"
     ]
    }
   ],
   "source": [
    "predicted = pd.DataFrame(predicted, columns=['revenue'])\n",
    "predicted['id'] = y_test.index\n",
    "print(predicted.head())"
   ]
  },
  {
   "cell_type": "code",
   "execution_count": 14,
   "metadata": {},
   "outputs": [],
   "source": [
    "predicted.to_csv('C:\\Python\\Project\\Project\\data\\predicted.csv')\n",
    "y_test_df.to_csv('C:\\Python\\Project\\Project\\data\\y_test.csv')"
   ]
  },
  {
   "attachments": {},
   "cell_type": "markdown",
   "metadata": {},
   "source": [
    "Display the models performance"
   ]
  },
  {
   "cell_type": "code",
   "execution_count": 15,
   "metadata": {},
   "outputs": [
    {
     "data": {
      "text/plain": [
       "<matplotlib.collections.PathCollection at 0x2253cbaa4d0>"
      ]
     },
     "execution_count": 15,
     "metadata": {},
     "output_type": "execute_result"
    },
    {
     "data": {
      "image/png": "[encoded data removed]",
      "text/plain": [
       "<Figure size 1600x800 with 1 Axes>"
      ]
     },
     "metadata": {
      "needs_background": "light"
     },
     "output_type": "display_data"
    }
   ],
   "source": [
    "plt.figure(figsize=(20, 10), dpi=80)\n",
    "plt.scatter(y_test_df['id'], y_test_df['revenue'], marker='.')\n",
    "plt.xticks(np.arange(min(y_test.index), max(y_test.index)+5, 25000))\n",
    "plt.scatter(predicted['id'], predicted['revenue'], marker='.')"
   ]
  }
 ],
 "metadata": {
  "kernelspec": {
   "display_name": "Python 3",
   "language": "python",
   "name": "python3"
  },
  "language_info": {
   "codemirror_mode": {
    "name": "ipython",
    "version": 3
   },
   "file_extension": ".py",
   "mimetype": "text/x-python",
   "name": "python",
   "nbconvert_exporter": "python",
   "pygments_lexer": "ipython3",
   "version": "3.10.4"
  },
  "orig_nbformat": 4
 },
 "nbformat": 4,
 "nbformat_minor": 2
}
